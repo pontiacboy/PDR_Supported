{
 "cells": [
  {
   "cell_type": "code",
   "execution_count": null,
   "metadata": {},
   "outputs": [],
   "source": [
    "import pandas as pd\n",
    "import re\n",
    "import math\n",
    "import numpy as np"
   ]
  },
  {
   "cell_type": "code",
   "execution_count": null,
   "metadata": {},
   "outputs": [],
   "source": [
    "# Import entries data\n",
    "data = pd.read_csv(\"entries.csv\") "
   ]
  },
  {
   "cell_type": "code",
   "execution_count": null,
   "metadata": {},
   "outputs": [],
   "source": [
    "len(data)\n",
    "data"
   ]
  },
  {
   "cell_type": "code",
   "execution_count": null,
   "metadata": {},
   "outputs": [],
   "source": [
    "data_croho = data['Croho']"
   ]
  },
  {
   "cell_type": "code",
   "execution_count": null,
   "metadata": {},
   "outputs": [],
   "source": [
    "data_croho.head()"
   ]
  },
  {
   "cell_type": "code",
   "execution_count": null,
   "metadata": {},
   "outputs": [],
   "source": [
    "# Creating a link table that works as a lookup table.\n",
    "linktable = data[['CrohoNo','Croho','Degree']]\n",
    "\n",
    "linktable = linktable.drop_duplicates()\n",
    "\n",
    "# Combine 2 columns for better mapping on Degree and Croho\n",
    "linktable['Croho'] = linktable['Degree'] + \" \" + linktable['Croho']\n",
    "\n",
    "linktable = linktable.dropna(subset =[\"CrohoNo\"])\n",
    "linktable"
   ]
  },
  {
   "cell_type": "code",
   "execution_count": null,
   "metadata": {},
   "outputs": [],
   "source": [
    "data['Croho'] = data['Degree'] + \" \" + data['Croho'] \n",
    "\n",
    "# data = data.fillna(0)\n",
    "# # Code that checks if the existing CrohoNo is blank and if it is blank gives it an id if there is a matching Croho \n",
    "# for index, row in data.iterrows():\n",
    "#     if row['CrohoNo'] == 0:\n",
    "#         if linktable.loc[linktable['Croho'] == row['Croho']].empty == False:\n",
    "#             data.iloc[index,3] = linktable.loc[linktable['Croho'] == row['Croho']]['CrohoNo'].iloc[0]\n",
    "# # Splits string again\n",
    "# for index, row in data.iterrows():\n",
    "#     data.iloc[index,2] = data.iloc[index,2].split(\" \", 1)[1]"
   ]
  },
  {
   "cell_type": "code",
   "execution_count": null,
   "metadata": {},
   "outputs": [],
   "source": [
    "data = data.replace(0,np.nan)\n",
    "data.isnull().sum()"
   ]
  },
  {
   "cell_type": "code",
   "execution_count": null,
   "metadata": {},
   "outputs": [],
   "source": [
    "data"
   ]
  },
  {
   "cell_type": "code",
   "execution_count": null,
   "metadata": {},
   "outputs": [],
   "source": [
    "# Import koppelbestand\n",
    "df = pd.read_excel(\"koppelbestand 2.xlsx\")"
   ]
  },
  {
   "cell_type": "code",
   "execution_count": null,
   "metadata": {},
   "outputs": [],
   "source": [
    "df"
   ]
  },
  {
   "cell_type": "code",
   "execution_count": null,
   "metadata": {},
   "outputs": [],
   "source": [
    "df['CrohoNaamActueel']"
   ]
  },
  {
   "cell_type": "code",
   "execution_count": null,
   "metadata": {},
   "outputs": [],
   "source": []
  },
  {
   "cell_type": "code",
   "execution_count": null,
   "metadata": {},
   "outputs": [],
   "source": [
    "# Split Ad/M/B from CrohoNaamActueel. To link the CrohoNaamActueel data to Croho\n",
    "x = 0\n",
    "array = []\n",
    "for i in range(len(df)):\n",
    "    string = df.iloc[x,2]\n",
    "    stringtest = string.split(' ',1)[0]\n",
    "    string = string.split(' ',1)[1]\n",
    "    array.append(stringtest)\n",
    "    df.iloc[x,1] = string\n",
    "    x = x +1    "
   ]
  },
  {
   "cell_type": "code",
   "execution_count": null,
   "metadata": {},
   "outputs": [],
   "source": [
    "df['Degree'] = array\n",
    "df.rename(columns={'CrohoNaamActueel':'Croho'}, inplace=True)"
   ]
  },
  {
   "cell_type": "code",
   "execution_count": null,
   "metadata": {},
   "outputs": [],
   "source": [
    "df"
   ]
  },
  {
   "cell_type": "code",
   "execution_count": null,
   "metadata": {},
   "outputs": [],
   "source": [
    "df3 = pd.merge(data, df, how='outer', on=['Croho','Degree','Jaar'])\n",
    "df_test_duplicates = df3\n",
    "df3['Unnamed: 0']\n",
    "df3"
   ]
  },
  {
   "cell_type": "code",
   "execution_count": null,
   "metadata": {},
   "outputs": [],
   "source": [
    "df3 = df3[['Unnamed: 0', 'Croho','Jaar', 'CrohoNo','OpleidingsVorm','Opmerking','Degree','CrohoActueel','Locatie','Label1','Label2']]\n",
    "df3 = df3.drop_duplicates()\n",
    "df3"
   ]
  },
  {
   "cell_type": "code",
   "execution_count": null,
   "metadata": {},
   "outputs": [],
   "source": [
    "df3.isnull().sum()"
   ]
  },
  {
   "cell_type": "code",
   "execution_count": null,
   "metadata": {},
   "outputs": [],
   "source": [
    "df3.dropna(subset =[\"Unnamed: 0\"])"
   ]
  },
  {
   "cell_type": "code",
   "execution_count": null,
   "metadata": {},
   "outputs": [],
   "source": [
    "df3.to_csv('Raw_data_combined.csv')"
   ]
  },
  {
   "cell_type": "code",
   "execution_count": null,
   "metadata": {},
   "outputs": [],
   "source": []
  },
  {
   "cell_type": "code",
   "execution_count": null,
   "metadata": {},
   "outputs": [],
   "source": []
  },
  {
   "cell_type": "code",
   "execution_count": null,
   "metadata": {},
   "outputs": [],
   "source": []
  },
  {
   "cell_type": "code",
   "execution_count": null,
   "metadata": {},
   "outputs": [],
   "source": [
    "# Changing column types and picking a set few amount of columns from the entry data\n",
    "# df.columns = ['CrohoActueel','Croho','InstituteID','Institute','Locatie']\n",
    "df.columns = ['Jaar','CrohoActueel','Croho','Locatie','InstituteID','Institute','Degree']\n",
    "df[\"InstituteID\"] = df[\"InstituteID\"].round().astype(int)\n",
    "df[\"CrohoActueel\"] = df[\"CrohoActueel\"].round().astype(int)"
   ]
  },
  {
   "cell_type": "code",
   "execution_count": null,
   "metadata": {},
   "outputs": [],
   "source": [
    "# Creating a talbe for Institute/Croho\n",
    "Institutedf = df[['InstituteID','Institute']]\n",
    "Institutedf = Institutedf.drop_duplicates(subset='InstituteID', keep=\"last\")\n",
    "Crohodf = df[['CrohoActueel','Croho','InstituteID','Locatie','Degree']]\n",
    "Crohodf"
   ]
  },
  {
   "cell_type": "code",
   "execution_count": null,
   "metadata": {},
   "outputs": [],
   "source": [
    "data\n",
    "# For loop to take out double spaces\n",
    "x = 0 \n",
    "for i in range(len(data)):\n",
    "    string = data.iloc[x,2]\n",
    "    string = re.sub(' +', ' ',string)\n",
    "    data.iloc[x,2] = string\n",
    "    x = x +1 \n",
    "    print(string)"
   ]
  },
  {
   "cell_type": "code",
   "execution_count": null,
   "metadata": {},
   "outputs": [],
   "source": [
    "# Merging entry dataset with koppelbestand dataset\n",
    "df3 = pd.merge(data, df, how='outer', on=['Croho','Degree'])\n",
    "df_test_duplicates = df3\n",
    "#df3 = df3.loc[~df3['Unnamed: 0'].duplicated(keep='first')]\n",
    "df_test_duplicates.to_csv('test_duplicate_merging_data.csv')\n",
    "df3.to_csv('Raw_data_combined.csv')\n",
    "len(df3)"
   ]
  },
  {
   "cell_type": "code",
   "execution_count": null,
   "metadata": {},
   "outputs": [],
   "source": [
    "df3.isnull().sum()"
   ]
  },
  {
   "cell_type": "code",
   "execution_count": null,
   "metadata": {},
   "outputs": [],
   "source": [
    "newblankdf = df3"
   ]
  },
  {
   "cell_type": "code",
   "execution_count": null,
   "metadata": {},
   "outputs": [],
   "source": [
    "newblankdf"
   ]
  },
  {
   "cell_type": "code",
   "execution_count": null,
   "metadata": {},
   "outputs": [],
   "source": [
    "math.isnan(newblankdf.iloc[1,3])\n",
    "print(newblankdf.iloc[1,3])"
   ]
  },
  {
   "cell_type": "code",
   "execution_count": null,
   "metadata": {},
   "outputs": [],
   "source": [
    "# If ChrohoActueel is blank it checks if ChrohoNo is blank or not and proceeds to replace the ChrohoActueel value.\n",
    "x = 0 \n",
    "x1 = 0\n",
    "x2 = 0\n",
    "for i in range(len(newblankdf)):\n",
    "    print(math.isnan(newblankdf.iloc[x,9]))\n",
    "    if math.isnan(newblankdf.iloc[x,9]):\n",
    "        if math.isnan(newblankdf.iloc[x,3]):\n",
    "            newblankdf.iloc[x,9] = float('nan')\n",
    "            x2 = x2 + 1\n",
    "        else:\n",
    "            newblankdf.iloc[x,9] = newblankdf.iloc[x,3]\n",
    "            #print(newblankdf.iloc[x,9])\n",
    "            x1 = x1 +1 \n",
    "    x = x +1"
   ]
  },
  {
   "cell_type": "code",
   "execution_count": null,
   "metadata": {},
   "outputs": [],
   "source": [
    "print(x1)"
   ]
  },
  {
   "cell_type": "code",
   "execution_count": null,
   "metadata": {},
   "outputs": [],
   "source": [
    "print(newblankdf.isnull().sum())\n",
    "len(newblankdf)"
   ]
  },
  {
   "cell_type": "code",
   "execution_count": null,
   "metadata": {},
   "outputs": [],
   "source": [
    "namechangesdf = newblankdf[['Unnamed: 0','Brin','Croho','CrohoNo','Jaar','OpleidingsVorm','Opmerking','Taal','Degree','CrohoActueel','InstituteID']]\n"
   ]
  },
  {
   "cell_type": "code",
   "execution_count": null,
   "metadata": {},
   "outputs": [],
   "source": [
    "namechangesdf = namechangesdf[np.isfinite(namechangesdf['CrohoActueel'])]\n",
    "print(namechangesdf.isnull().sum())\n",
    "len(namechangesdf)"
   ]
  },
  {
   "cell_type": "code",
   "execution_count": null,
   "metadata": {},
   "outputs": [],
   "source": [
    "entries = namechangesdf[['Unnamed: 0','Brin','CrohoNo','Jaar','OpleidingsVorm','Opmerking','Taal','Degree','CrohoActueel','InstituteID']]\n",
    "\n",
    "# entries[\"InstituteID\"] = entries[\"InstituteID\"].round().astype(int)\n",
    "entries[\"CrohoActueel\"] = entries[\"CrohoActueel\"].round().astype(int)"
   ]
  },
  {
   "cell_type": "code",
   "execution_count": null,
   "metadata": {},
   "outputs": [],
   "source": [
    "entries"
   ]
  },
  {
   "cell_type": "code",
   "execution_count": null,
   "metadata": {},
   "outputs": [],
   "source": [
    "entries['InstituteID'] = entries['InstituteID'].fillna(0)\n",
    "Crohodf[Crohodf['CrohoActueel'] == 30039]"
   ]
  },
  {
   "cell_type": "code",
   "execution_count": null,
   "metadata": {},
   "outputs": [],
   "source": [
    "x = 0\n",
    "false = 0\n",
    "for index, row in entries.iterrows():\n",
    "    if row['InstituteID'] == 0:\n",
    "        if Crohodf.loc[Crohodf['InstituteID'] == row['InstituteID']].empty:\n",
    "            print(row['CrohoActueel'])\n",
    "            if (row['CrohoActueel'] in Crohodf['CrohoActueel'].values) == False:\n",
    "                print('False')\n",
    "                false = false +1 \n",
    "            else:\n",
    "                # data.iloc[index,3] = linktable.loc[linktable['Croho'] == row['Croho']]['CrohoNo'].iloc[0]\n",
    "                print(Crohodf.loc[Crohodf['CrohoActueel'] == row['CrohoActueel']]['InstituteID'].iloc[0])\n",
    "                entries.iloc[x,9] = Crohodf.loc[Crohodf['CrohoActueel'] == row['CrohoActueel']]['InstituteID'].iloc[0]\n",
    "                print(f'After  {entries.iloc[index,9]}/{entries.iloc[index,8]}')\n",
    "                array.append({entries.iloc[index,8]})\n",
    "        # print(x)\n",
    "        x = x+1\n",
    "print(x)"
   ]
  },
  {
   "cell_type": "code",
   "execution_count": null,
   "metadata": {},
   "outputs": [],
   "source": [
    "df = pd.DataFrame(data=array)\n",
    "print(false)"
   ]
  },
  {
   "cell_type": "code",
   "execution_count": null,
   "metadata": {},
   "outputs": [],
   "source": [
    "df"
   ]
  },
  {
   "cell_type": "code",
   "execution_count": null,
   "metadata": {},
   "outputs": [],
   "source": [
    "entries.to_csv('Entries-1-noblank.csv')\n",
    "# newblankdf.to_csv('Entries-1.csv')\n",
    "Institutedf.to_csv('Institute_map.csv')\n",
    "Crohodf.to_csv('Croho_map.csv')"
   ]
  },
  {
   "cell_type": "markdown",
   "metadata": {},
   "source": [
    "# Getting old names"
   ]
  },
  {
   "cell_type": "markdown",
   "metadata": {},
   "source": [
    "# Catching as many name changes as possible\n",
    "# These name changes were encountered in excel, whene exploring the data\n",
    "namechangesdf = newblankdf "
   ]
  },
  {
   "cell_type": "markdown",
   "metadata": {},
   "source": [
    "#namechangesdf['CrohoActueel'].isnull() == 1    "
   ]
  },
  {
   "cell_type": "markdown",
   "metadata": {},
   "source": [
    "namechangesdf"
   ]
  },
  {
   "cell_type": "markdown",
   "metadata": {},
   "source": [
    "# Creating a link table that works as a lookup table.\n",
    "linktable = data[['CrohoNo','Croho','Degree']]\n",
    "\n",
    "linktable = linktable.drop_duplicates()\n",
    "\n",
    "# Combine 2 columns for better mapping on Degree and Croho\n",
    "linktable['Croho'] = linktable['Degree'] + \" \" + linktable['Croho']\n",
    "\n",
    "linktable = linktable.dropna(subset =[\"CrohoNo\"])"
   ]
  },
  {
   "cell_type": "markdown",
   "metadata": {},
   "source": [
    "linktable"
   ]
  },
  {
   "cell_type": "markdown",
   "metadata": {},
   "source": [
    "linktable = linktable.drop_duplicates()"
   ]
  },
  {
   "cell_type": "markdown",
   "metadata": {},
   "source": [
    "linktable['Croho'] = linktable['Degree'] + \" \" + linktable['Croho']"
   ]
  },
  {
   "cell_type": "markdown",
   "metadata": {},
   "source": [
    "linktable"
   ]
  },
  {
   "cell_type": "markdown",
   "metadata": {},
   "source": [
    "linktable = linktable.dropna(subset =[\"CrohoNo\"])"
   ]
  },
  {
   "cell_type": "markdown",
   "metadata": {},
   "source": [
    "linktable.loc[linktable['Croho'] == 'Communicatie']"
   ]
  },
  {
   "cell_type": "markdown",
   "metadata": {},
   "source": [
    "data['Croho'] = data['Degree'] + \" \" + data['Croho'] "
   ]
  },
  {
   "cell_type": "markdown",
   "metadata": {},
   "source": [
    "data = data.fillna(0)"
   ]
  },
  {
   "cell_type": "markdown",
   "metadata": {},
   "source": [
    "data"
   ]
  },
  {
   "cell_type": "markdown",
   "metadata": {},
   "source": [
    "data = data.fillna(0)\n",
    "# Code that checks if the existing CrohoNo is blank and if it is blank gives it an id if there is a matching Croho \n",
    "for index, row in data.iterrows():\n",
    "    if row['CrohoNo'] == 0:\n",
    "        if linktable.loc[linktable['Croho'] == row['Croho']].empty == False:\n",
    "            data.iloc[index,3] = linktable.loc[linktable['Croho'] == row['Croho']]['CrohoNo'].iloc[0]\n",
    "# Splits string again\n",
    "for index, row in data.iterrows():\n",
    "    data.iloc[index,2] = data.iloc[index,2].split(\" \", 1)[1]"
   ]
  },
  {
   "cell_type": "markdown",
   "metadata": {},
   "source": [
    "# Splits string again\n",
    "for index, row in data.iterrows():\n",
    "    data.iloc[index,2] = data.iloc[index,2].split(\" \", 1)[1]"
   ]
  },
  {
   "cell_type": "markdown",
   "metadata": {},
   "source": [
    "data.loc[data['Croho'] == 'Accountancy']"
   ]
  },
  {
   "cell_type": "markdown",
   "metadata": {},
   "source": [
    "data.to_csv('Data_incsv.csv')\n",
    "linktable.to_csv('Linktable-Test.csv')"
   ]
  },
  {
   "cell_type": "code",
   "execution_count": null,
   "metadata": {},
   "outputs": [],
   "source": []
  }
 ],
 "metadata": {
  "kernelspec": {
   "display_name": "Python 3",
   "language": "python",
   "name": "python3"
  },
  "language_info": {
   "codemirror_mode": {
    "name": "ipython",
    "version": 3
   },
   "file_extension": ".py",
   "mimetype": "text/x-python",
   "name": "python",
   "nbconvert_exporter": "python",
   "pygments_lexer": "ipython3",
   "version": "3.7.4"
  }
 },
 "nbformat": 4,
 "nbformat_minor": 2
}
